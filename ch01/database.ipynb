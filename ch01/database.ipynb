{
 "cells": [
  {
   "cell_type": "code",
   "execution_count": 1,
   "metadata": {},
   "outputs": [],
   "source": [
    "import sqlite3"
   ]
  },
  {
   "cell_type": "code",
   "execution_count": 2,
   "metadata": {},
   "outputs": [],
   "source": [
    "def create_table():\n",
    "    conn=sqlite3.connect('my_books.db')\n",
    "    cursor=conn.cursor()\n",
    "    sql='''create table if not exists books(\n",
    "        title text,\n",
    "        published_date text,\n",
    "        publisher text,\n",
    "        pages integer,\n",
    "        recommend integer\n",
    "    )'''\n",
    "    cursor.execute(sql)\n",
    "    conn.commit()\n",
    "    conn.close()\n",
    "\n",
    "create_table()"
   ]
  },
  {
   "cell_type": "code",
   "execution_count": 3,
   "metadata": {},
   "outputs": [],
   "source": [
    "def insert_books():\n",
    "    conn=sqlite3.connect('my_books.db')\n",
    "    cursor=conn.cursor()\n",
    "    sql=\"insert into books values('java','2024-04-21','길벗',500,10)\"\n",
    "    cursor.execute(sql)\n",
    "    conn.commit()\n",
    "    conn.close()\n",
    "    \n",
    "insert_books()"
   ]
  },
  {
   "cell_type": "code",
   "execution_count": 4,
   "metadata": {},
   "outputs": [],
   "source": [
    "def insert_books2(data):\n",
    "    conn=sqlite3.connect('my_books.db')\n",
    "    cursor=conn.cursor()\n",
    "    sql=\"insert into books values(?,?,?,?,?)\"\n",
    "    cursor.execute(sql,data)\n",
    "    conn.commit()\n",
    "    conn.close()"
   ]
  },
  {
   "cell_type": "code",
   "execution_count": 5,
   "metadata": {},
   "outputs": [],
   "source": [
    "data=('python', '2024-02-01','한빛',350,10)\n",
    "insert_books2(data)"
   ]
  },
  {
   "cell_type": "code",
   "execution_count": 6,
   "metadata": {},
   "outputs": [],
   "source": [
    "def insert_books3(data):\n",
    "    conn=sqlite3.connect('my_books.db')\n",
    "    cursor=conn.cursor()\n",
    "    sql=\"insert into books values(?,?,?,?,?)\"\n",
    "    cursor.executemany(sql,data)\n",
    "    conn.commit()\n",
    "    conn.close()"
   ]
  },
  {
   "cell_type": "code",
   "execution_count": 7,
   "metadata": {},
   "outputs": [],
   "source": [
    "datas=[('빅데이터', '2024-01-14', '생능', 250, 20),\n",
    "       ('안드로이드','2023-04-14','이지퍼블리싱',560,30),\n",
    "       ('Spring','2024-01-02','영진',650,15)]\n",
    "insert_books3(datas)"
   ]
  },
  {
   "cell_type": "code",
   "execution_count": 8,
   "metadata": {},
   "outputs": [
    {
     "name": "stdout",
     "output_type": "stream",
     "text": [
      "<class 'tuple'>\n",
      "('java', '2024-04-21', '길벗', 500, 10)\n"
     ]
    }
   ],
   "source": [
    "def one_book():\n",
    "    conn=sqlite3.connect('my_books.db')\n",
    "    cursor=conn.cursor()\n",
    "    cursor.execute(\"select * from books\")\n",
    "    book=cursor.fetchone()\n",
    "    print(type(book))\n",
    "    print(book)\n",
    "    conn.close()\n",
    "\n",
    "one_book()"
   ]
  },
  {
   "cell_type": "code",
   "execution_count": 10,
   "metadata": {},
   "outputs": [
    {
     "name": "stdout",
     "output_type": "stream",
     "text": [
      "('java', '2024-04-21', '길벗', 500, 10)\n",
      "('python', '2024-02-01', '한빛', 350, 10)\n",
      "('빅데이터', '2024-01-14', '생능', 250, 20)\n"
     ]
    }
   ],
   "source": [
    "def some_book(number):\n",
    "    conn=sqlite3.connect('my_books.db')\n",
    "    cursor=conn.cursor()\n",
    "    cursor.execute(\"select * from books\")\n",
    "    books=cursor.fetchmany(number)\n",
    "    for book in books:\n",
    "     print(book)\n",
    "    conn.close()\n",
    "\n",
    "some_book(3)"
   ]
  },
  {
   "cell_type": "code",
   "execution_count": 13,
   "metadata": {},
   "outputs": [
    {
     "name": "stdout",
     "output_type": "stream",
     "text": [
      "('Spring', '2024-01-02', '영진', 650, 15)\n",
      "('안드로이드', '2023-04-14', '이지퍼블리싱', 560, 30)\n",
      "('java', '2024-04-21', '길벗', 500, 10)\n"
     ]
    }
   ],
   "source": [
    "def all_book():\n",
    "    conn=sqlite3.connect('my_books.db')\n",
    "    cursor=conn.cursor()\n",
    "    cursor.execute(\"select * from books where pages>=500 order by pages desc\")\n",
    "    books=cursor.fetchall()\n",
    "    for book in books:\n",
    "     print(book)\n",
    "    conn.close()\n",
    "\n",
    "all_book()"
   ]
  },
  {
   "cell_type": "code",
   "execution_count": 18,
   "metadata": {},
   "outputs": [],
   "source": [
    "def update_book(data):\n",
    "    conn=sqlite3.connect('my_books.db')\n",
    "    cursor=conn.cursor()\n",
    "    sql=\"update books set pages=?, recommend=? where title=?\"\n",
    "    #cursor.execute(sql, data)\n",
    "    cursor.executemany(sql, data)\n",
    "    conn.commit()\n",
    "    conn.close()"
   ]
  },
  {
   "cell_type": "code",
   "execution_count": 17,
   "metadata": {},
   "outputs": [
    {
     "name": "stdout",
     "output_type": "stream",
     "text": [
      "('java', '2024-04-21', '길벗', 700, 20)\n",
      "('Spring', '2024-01-02', '영진', 650, 15)\n",
      "('안드로이드', '2023-04-14', '이지퍼블리싱', 560, 30)\n"
     ]
    }
   ],
   "source": [
    "data=(700,20, 'java')\n",
    "update_book(data)\n",
    "all_book()"
   ]
  },
  {
   "cell_type": "code",
   "execution_count": 19,
   "metadata": {},
   "outputs": [
    {
     "name": "stdout",
     "output_type": "stream",
     "text": [
      "('java', '2024-04-21', '길벗', 1000, 20)\n",
      "('안드로이드', '2023-04-14', '이지퍼블리싱', 700, 35)\n",
      "('Spring', '2024-01-02', '영진', 650, 15)\n"
     ]
    }
   ],
   "source": [
    "datas=[(1000, 20, 'java'),\n",
    "       (700, 35, '안드로이드')]\n",
    "update_book(datas)\n",
    "all_book()"
   ]
  },
  {
   "cell_type": "code",
   "execution_count": 20,
   "metadata": {},
   "outputs": [
    {
     "name": "stdout",
     "output_type": "stream",
     "text": [
      "Collecting pymysql\n",
      "  Downloading PyMySQL-1.1.1-py3-none-any.whl.metadata (4.4 kB)\n",
      "Downloading PyMySQL-1.1.1-py3-none-any.whl (44 kB)\n",
      "   ---------------------------------------- 0.0/45.0 kB ? eta -:--:--\n",
      "   --------------------------- ------------ 30.7/45.0 kB 1.3 MB/s eta 0:00:01\n",
      "   ---------------------------------------- 45.0/45.0 kB 1.1 MB/s eta 0:00:00\n",
      "Installing collected packages: pymysql\n",
      "Successfully installed pymysql-1.1.1\n"
     ]
    }
   ],
   "source": [
    "#! pip install pymysql"
   ]
  },
  {
   "cell_type": "code",
   "execution_count": 21,
   "metadata": {},
   "outputs": [],
   "source": [
    "import pymysql"
   ]
  },
  {
   "cell_type": "code",
   "execution_count": 26,
   "metadata": {},
   "outputs": [],
   "source": [
    "#1개의 데이터 입력\n",
    "def insert_data1(data):\n",
    "    conn = pymysql.connect(\n",
    "        host='localhost',\n",
    "        user='pse',\n",
    "        password='1234',\n",
    "        db='pydb',\n",
    "        charset='utf8')\n",
    "    cursor=conn.cursor()\n",
    "    sql=\"insert into book(title, pub, pages, author) values(%s,%s,%s,%s)\"\n",
    "    cursor.execute(sql, data)\n",
    "    conn.commit()\n",
    "    conn.close()"
   ]
  },
  {
   "cell_type": "code",
   "execution_count": 27,
   "metadata": {},
   "outputs": [],
   "source": [
    "data=('파이썬프로그램', '한빛', 20, '홍길동')\n",
    "insert_data1(data)"
   ]
  },
  {
   "cell_type": "code",
   "execution_count": 28,
   "metadata": {},
   "outputs": [],
   "source": [
    "#복수 데이터 입력\n",
    "def insert_data2(data):\n",
    "    conn = pymysql.connect(\n",
    "        host='localhost',\n",
    "        user='pse',\n",
    "        password='1234',\n",
    "        db='pydb',\n",
    "        charset='utf8')\n",
    "    cursor=conn.cursor()\n",
    "    sql=\"insert into book(title, pub, pages, author) values(%s,%s,%s,%s)\"\n",
    "    cursor.executemany(sql, data)\n",
    "    conn.commit()\n",
    "    conn.close()"
   ]
  },
  {
   "cell_type": "code",
   "execution_count": 29,
   "metadata": {},
   "outputs": [],
   "source": [
    "data_list=[('자바','생능', 500,'황기태'),('데이터베이스','한빛', 350,'서진수')]\n",
    "insert_data2(data_list)"
   ]
  },
  {
   "cell_type": "code",
   "execution_count": 30,
   "metadata": {},
   "outputs": [
    {
     "name": "stdout",
     "output_type": "stream",
     "text": [
      "(1, '파이썬프로그램', '한빛', 20, '홍길동')\n",
      "(2, '자바', '생능', 500, '황기태')\n",
      "(3, '데이터베이스', '한빛', 350, '서진수')\n"
     ]
    }
   ],
   "source": [
    "#전체 데이터 조회\n",
    "def select_all():\n",
    "    conn=pymysql.connect(host='localhost',\n",
    "    user='pse',\n",
    "    password='1234',\n",
    "    db='pydb',\n",
    "    charset='utf8')\n",
    "    cursor=conn.cursor()\n",
    "    sql=\"select * from book\"\n",
    "    cursor.execute(sql)\n",
    "    for book in cursor:\n",
    "        print(book)\n",
    "    conn.close()\n",
    "select_all()"
   ]
  },
  {
   "cell_type": "code",
   "execution_count": 32,
   "metadata": {},
   "outputs": [
    {
     "name": "stdout",
     "output_type": "stream",
     "text": [
      "(2, '자바', '생능', 500, '황기태')\n"
     ]
    }
   ],
   "source": [
    "#조건 검색\n",
    "def select_cond(title):\n",
    "    conn=pymysql.connect(host='localhost',\n",
    "    user='pse',\n",
    "    password='1234',\n",
    "    db='pydb',\n",
    "    charset='utf8')\n",
    "    cursor=conn.cursor()\n",
    "    sql=\"select * from book where title=%s\"\n",
    "    cursor.execute(sql,(title,))\n",
    "    for book in cursor:\n",
    "        print(book)\n",
    "    conn.close()\n",
    "select_cond('자바')"
   ]
  },
  {
   "cell_type": "code",
   "execution_count": 34,
   "metadata": {},
   "outputs": [
    {
     "name": "stdout",
     "output_type": "stream",
     "text": [
      "(1, '파이썬프로그램', '한빛', 20, '홍길동')\n",
      "(2, '자바', '생능', 500, '황기태')\n",
      "(3, 'Java', '생능', 700, '홍길동')\n"
     ]
    }
   ],
   "source": [
    "#1개의 데이터 업데이트\n",
    "def update_book(data):\n",
    "    conn=pymysql.connect(host='localhost',\n",
    "    user='pse',\n",
    "    password='1234',\n",
    "    db='pydb',\n",
    "    charset='utf8')\n",
    "    cursor=conn.cursor()\n",
    "    sql=\"update book set title=%s, pub=%s, pages=%s, author=%s where id=%s\"\n",
    "    cursor.execute(sql,data)\n",
    "    conn.commit()\n",
    "    conn.close()\n",
    "\n",
    "data=('Java', '생능', '700', '홍길동', 3)\n",
    "update_book(data)\n",
    "select_all()"
   ]
  },
  {
   "cell_type": "code",
   "execution_count": 36,
   "metadata": {},
   "outputs": [
    {
     "name": "stdout",
     "output_type": "stream",
     "text": [
      "(1, '파이썬프로그램', '한빛', 20, '홍길동')\n",
      "(2, '자바', '생능', 500, '황기태')\n",
      "(3, 'Java2', '생능', 700, '최주호')\n"
     ]
    }
   ],
   "source": [
    "#복수의 데이터 업데이트\n",
    "def update_book(data):\n",
    "    conn=pymysql.connect(host='localhost',\n",
    "    user='pse',\n",
    "    password='1234',\n",
    "    db='pydb',\n",
    "    charset='utf8')\n",
    "    cursor=conn.cursor()\n",
    "    sql=\"update book set title=%s, pub=%s, pages=%s, author=%s where id=%s\"\n",
    "    cursor.executemany(sql,datas)\n",
    "    conn.commit()\n",
    "    conn.close()\n",
    "\n",
    "datas=[('Java2', '생능', '700', '최주호', 3),\n",
    "      ('파이썬', '한빛', '700', '홍길동', 4),\n",
    "      ('자바', '길벗', '700', '박성언', 5)]\n",
    "\n",
    "update_book(datas)\n",
    "select_all()"
   ]
  },
  {
   "cell_type": "code",
   "execution_count": 37,
   "metadata": {},
   "outputs": [
    {
     "name": "stdout",
     "output_type": "stream",
     "text": [
      "(1, '파이썬프로그램', '한빛', 20, '홍길동')\n",
      "(2, '자바', '생능', 500, '황기태')\n",
      "(3, 'Java2', '생능', 700, '최주호')\n"
     ]
    }
   ],
   "source": [
    "#단일 및 복수개의 데이터 삭제\n",
    "def delete_book(data):\n",
    "    conn=pymysql.connect(host='localhost',\n",
    "    user='pse',\n",
    "    password='1234',\n",
    "    db='pydb',\n",
    "    charset='utf8')\n",
    "    cursor=conn.cursor()\n",
    "    sql=\"delete from book where id=%s\"\n",
    "    #cursor.excute(sql,data)\n",
    "    cursor.executemany(sql,data)\n",
    "    conn.commit()\n",
    "    conn.close()\n",
    "\n",
    "#delete_book(4)\n",
    "update_book([5,6])\n",
    "select_all()"
   ]
  }
 ],
 "metadata": {
  "kernelspec": {
   "display_name": "base",
   "language": "python",
   "name": "python3"
  },
  "language_info": {
   "codemirror_mode": {
    "name": "ipython",
    "version": 3
   },
   "file_extension": ".py",
   "mimetype": "text/x-python",
   "name": "python",
   "nbconvert_exporter": "python",
   "pygments_lexer": "ipython3",
   "version": "3.12.4"
  }
 },
 "nbformat": 4,
 "nbformat_minor": 2
}
