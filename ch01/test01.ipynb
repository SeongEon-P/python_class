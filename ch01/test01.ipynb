{
 "cells": [
  {
   "cell_type": "code",
   "execution_count": 4,
   "metadata": {},
   "outputs": [],
   "source": [
    "a=10\n",
    "b=4"
   ]
  },
  {
   "cell_type": "code",
   "execution_count": 2,
   "metadata": {},
   "outputs": [],
   "source": [
    "#설명"
   ]
  },
  {
   "cell_type": "code",
   "execution_count": 5,
   "metadata": {},
   "outputs": [
    {
     "name": "stdout",
     "output_type": "stream",
     "text": [
      "15\n",
      "5\n",
      "50\n",
      "2.0\n"
     ]
    }
   ],
   "source": [
    "print(a+b)\n",
    "print(a-b)\n",
    "print(a*b)\n",
    "print(a/b)"
   ]
  },
  {
   "cell_type": "code",
   "execution_count": 6,
   "metadata": {},
   "outputs": [
    {
     "name": "stdout",
     "output_type": "stream",
     "text": [
      "2\n",
      "0\n"
     ]
    }
   ],
   "source": [
    "print(a//b)\n",
    "print(a%b)"
   ]
  },
  {
   "cell_type": "code",
   "execution_count": 8,
   "metadata": {},
   "outputs": [
    {
     "name": "stdout",
     "output_type": "stream",
     "text": [
      "12\n",
      "11\n"
     ]
    }
   ],
   "source": [
    "a+=1\n",
    "print(a)\n",
    "a-=1\n",
    "print(a)"
   ]
  },
  {
   "cell_type": "code",
   "execution_count": 9,
   "metadata": {},
   "outputs": [
    {
     "name": "stdout",
     "output_type": "stream",
     "text": [
      "True\n",
      "False\n",
      "False\n",
      "True\n",
      "True\n",
      "False\n"
     ]
    }
   ],
   "source": [
    "print(a>b)\n",
    "print(a<b)\n",
    "print(a==b)\n",
    "print(a!=b)\n",
    "print(a>=b)\n",
    "print(a<=b)"
   ]
  },
  {
   "cell_type": "code",
   "execution_count": 10,
   "metadata": {},
   "outputs": [
    {
     "name": "stdout",
     "output_type": "stream",
     "text": [
      "11 5\n"
     ]
    }
   ],
   "source": [
    "print(a, b)"
   ]
  },
  {
   "cell_type": "code",
   "execution_count": 11,
   "metadata": {},
   "outputs": [
    {
     "name": "stdout",
     "output_type": "stream",
     "text": [
      "1\n",
      "15\n",
      "14\n",
      "-7\n"
     ]
    }
   ],
   "source": [
    "print(a&b)\n",
    "print(a|b)\n",
    "print(a^b)\n",
    "print(~a+b)"
   ]
  },
  {
   "cell_type": "code",
   "execution_count": 14,
   "metadata": {},
   "outputs": [
    {
     "name": "stdout",
     "output_type": "stream",
     "text": [
      "11 11.0\n",
      "11 11.0 11\n"
     ]
    }
   ],
   "source": [
    "b=float(a)\n",
    "print(a, b)\n",
    "c=int(b)\n",
    "print(a, b, c)"
   ]
  },
  {
   "cell_type": "code",
   "execution_count": 15,
   "metadata": {},
   "outputs": [
    {
     "name": "stdout",
     "output_type": "stream",
     "text": [
      "3.6666666666666665\n"
     ]
    }
   ],
   "source": [
    "print(a/3)"
   ]
  },
  {
   "cell_type": "code",
   "execution_count": 16,
   "metadata": {},
   "outputs": [
    {
     "ename": "TypeError",
     "evalue": "unsupported operand type(s) for +: 'int' and 'str'",
     "output_type": "error",
     "traceback": [
      "\u001b[1;31m---------------------------------------------------------------------------\u001b[0m",
      "\u001b[1;31mTypeError\u001b[0m                                 Traceback (most recent call last)",
      "Cell \u001b[1;32mIn[16], line 1\u001b[0m\n\u001b[1;32m----> 1\u001b[0m \u001b[38;5;28mprint\u001b[39m(a\u001b[38;5;241m+\u001b[39m\u001b[38;5;124m'\u001b[39m\u001b[38;5;124m \u001b[39m\u001b[38;5;124m'\u001b[39m\u001b[38;5;241m+\u001b[39mb)\n\u001b[0;32m      2\u001b[0m \u001b[38;5;28mprint\u001b[39m(fa\u001b[38;5;241m+\u001b[39mfb)\n",
      "\u001b[1;31mTypeError\u001b[0m: unsupported operand type(s) for +: 'int' and 'str'"
     ]
    }
   ],
   "source": [
    "print(a+' '+b)\n",
    "print(fa+fb)"
   ]
  },
  {
   "cell_type": "code",
   "execution_count": 17,
   "metadata": {},
   "outputs": [
    {
     "name": "stdout",
     "output_type": "stream",
     "text": [
      "**********\n"
     ]
    }
   ],
   "source": [
    "s1=\"*\"\n",
    "print(s1*10)"
   ]
  },
  {
   "cell_type": "code",
   "execution_count": 18,
   "metadata": {},
   "outputs": [
    {
     "name": "stdout",
     "output_type": "stream",
     "text": [
      "True\n",
      "False\n"
     ]
    }
   ],
   "source": [
    "s2=\"abcd\"\n",
    "print('a' in s2)\n",
    "print('a' not in s2)"
   ]
  },
  {
   "cell_type": "code",
   "execution_count": 19,
   "metadata": {},
   "outputs": [
    {
     "name": "stdout",
     "output_type": "stream",
     "text": [
      "박성언\n"
     ]
    }
   ],
   "source": [
    "name=input(\"이름을 입력하세요\")\n",
    "print(name)"
   ]
  },
  {
   "cell_type": "code",
   "execution_count": 20,
   "metadata": {},
   "outputs": [
    {
     "name": "stdout",
     "output_type": "stream",
     "text": [
      "Right!\n",
      "a is 5\n",
      "******\n",
      "Right!\n",
      "a is not 3\n"
     ]
    }
   ],
   "source": [
    "a=5\n",
    "if(a==5):\n",
    "    print(\"Right!\")\n",
    "    print('a is 5')\n",
    "    print('******')\n",
    "if(a==3):\n",
    "    print(\"Right!\")\n",
    "    print('a is 3')\n",
    "if(a!=3):\n",
    "    print(\"Right!\")\n",
    "    print('a is not 3')"
   ]
  },
  {
   "cell_type": "code",
   "execution_count": 21,
   "metadata": {},
   "outputs": [
    {
     "name": "stdout",
     "output_type": "stream",
     "text": [
      "등급 A입니다\n"
     ]
    }
   ],
   "source": [
    "score=float(input(\"점수 입력\"))\n",
    "\n",
    "if(score>=90):\n",
    "    print(\"등급 A입니다\")\n",
    "elif(score>=80):\n",
    "    print(\"등급 B입니다\")\n",
    "elif(score>=70):\n",
    "    print(\"등급 C입니다\")\n",
    "else:\n",
    "    print(\"등급 F입니다\")"
   ]
  },
  {
   "cell_type": "code",
   "execution_count": null,
   "metadata": {},
   "outputs": [],
   "source": [
    "score1=float(input(\"점수1\"))\n",
    "score2=float(input(\"점수2\"))\n",
    "avg=(score1+score2)/2\n",
    "if(avg<70 or score1<60 or score2>60):\n",
    "    print('불합격')\n",
    "else:\n",
    "    print('합격')"
   ]
  },
  {
   "cell_type": "code",
   "execution_count": 22,
   "metadata": {},
   "outputs": [
    {
     "name": "stdout",
     "output_type": "stream",
     "text": [
      "대학생\n"
     ]
    }
   ],
   "source": [
    "birth_year = int(input(\"당신이 태어난 연도를 입력하세요: \"))  \n",
    "\n",
    "current_year = 2024  # 현재 연도\n",
    "age = current_year - birth_year  # 나이 계산\n",
    "\n",
    "if 20 <= age <= 26:\n",
    "    print(\"대학생\")\n",
    "elif 17 <= age < 20:\n",
    "    print(\"고등학생\")\n",
    "elif 14 <= age < 17:  \n",
    "    print(\"고등학생\")\n",
    "else:  # 그 외의 경우\n",
    "    print(\"학생이 아닙니다\")"
   ]
  },
  {
   "cell_type": "code",
   "execution_count": 23,
   "metadata": {},
   "outputs": [
    {
     "name": "stdout",
     "output_type": "stream",
     "text": [
      "5 X 1 = 5\n",
      "5 X 2 = 10\n",
      "5 X 3 = 15\n",
      "5 X 4 = 20\n",
      "5 X 5 = 25\n",
      "5 X 6 = 30\n",
      "5 X 7 = 35\n",
      "5 X 8 = 40\n",
      "5 X 9 = 45\n",
      "파이썬으로 구구단 5단을 계산할 수 있다!\n"
     ]
    }
   ],
   "source": [
    "a=5\n",
    "i=1\n",
    "\n",
    "while i <= 9:\n",
    "    print(str(a) + ' X ' +str(i) + ' = ' + str(i*a))\n",
    "    i += 1\n",
    "print('파이썬으로 구구단 5단을 계산할 수 있다!')"
   ]
  },
  {
   "cell_type": "code",
   "execution_count": 24,
   "metadata": {},
   "outputs": [
    {
     "name": "stdout",
     "output_type": "stream",
     "text": [
      "a\n",
      "b\n",
      "c\n",
      "d\n",
      "e\n",
      "f\n"
     ]
    }
   ],
   "source": [
    "s1='abcdef'\n",
    "for i in s1:\n",
    "    print(i)"
   ]
  },
  {
   "cell_type": "code",
   "execution_count": 25,
   "metadata": {},
   "outputs": [
    {
     "name": "stdout",
     "output_type": "stream",
     "text": [
      "0\n",
      "1\n",
      "2\n",
      "3\n",
      "4\n",
      "6\n",
      "7\n"
     ]
    }
   ],
   "source": [
    "for i in range(10):\n",
    "    if i==5:continue\n",
    "    if i==8:break\n",
    "    print(i)"
   ]
  },
  {
   "cell_type": "code",
   "execution_count": null,
   "metadata": {},
   "outputs": [],
   "source": [
    "while True:\n",
    "    print(\"음료목록 1.오렌지주스(100원), 2.커피(200원), 3.콜라(300원)\")\n",
    "    coin = int(input(\"동전을 넣으세요.\"))\n",
    "    drink = int(input(\"음료를 고르세요.\\n\"))\n",
    "    \n",
    "    if drink == 1:\n",
    "        #오렌지주스 100원\n",
    "        if coin >= 100:\n",
    "            remain = coin -100\n",
    "            print(\"오렌지주스가 곧 제됩니다.\")\n",
    "            print(\"거스름돈은 {}원입니다.\".format(remain))\n",
    "        else:\n",
    "            print(\"잔액이 부족합니다.\")\n",
    "    \n",
    "    if drink == 2:\n",
    "        #커피 200원\n",
    "        if coin >= 200:\n",
    "            remain = coin -200\n",
    "            print(\"커피가 곧 제됩니다.\")\n",
    "            print(\"거스름돈은 {}원입니다.\".format(remain))\n",
    "        else:\n",
    "            print(\"잔액이 부족합니다.\")\n",
    "\n",
    "    if drink == 3:\n",
    "        #콜라 300원\n",
    "        if coin >= 300:\n",
    "            remain = coin -300\n",
    "            print(\"콜라가 곧 제됩니다.\")\n",
    "            print(\"거스름돈은 {}원입니다.\".format(remain))\n",
    "        else:\n",
    "            print(\"잔액이 부족합니다.\")\n",
    "\n",
    "    elif drink == 4:\n",
    "        remain = coin -0\n",
    "        print(\"종료선택\")\n",
    "        print(\"잔액:\", remain)\n",
    "        break\n",
    "\n",
    "    else:\n",
    "        print(\"없는 메뉴입니다.\")\n",
    "    \n",
    "    print(\"end\")\n"
   ]
  },
  {
   "cell_type": "code",
   "execution_count": 26,
   "metadata": {},
   "outputs": [
    {
     "name": "stdout",
     "output_type": "stream",
     "text": [
      "1 2 3\n"
     ]
    }
   ],
   "source": [
    "def f(a, b, c):\n",
    "    print(a, b, c)\n",
    "f(1, 2, 3)"
   ]
  },
  {
   "cell_type": "code",
   "execution_count": 27,
   "metadata": {},
   "outputs": [
    {
     "name": "stdout",
     "output_type": "stream",
     "text": [
      "음료목록: 1.오렌지 주스(100), 2.커피(200), 3.콜라(300), 4.종료\n",
      "동전이 부족합니다.\n",
      "음료목록: 1.오렌지 주스(100), 2.커피(200), 3.콜라(300), 4.종료\n",
      "음료가 곧 제공됩니다.\n",
      "잔액: 300\n",
      "음료목록: 1.오렌지 주스(100), 2.커피(200), 3.콜라(300), 4.종료\n"
     ]
    },
    {
     "ename": "ValueError",
     "evalue": "invalid literal for int() with base 10: ''",
     "output_type": "error",
     "traceback": [
      "\u001b[1;31m---------------------------------------------------------------------------\u001b[0m",
      "\u001b[1;31mValueError\u001b[0m                                Traceback (most recent call last)",
      "Cell \u001b[1;32mIn[27], line 3\u001b[0m\n\u001b[0;32m      1\u001b[0m \u001b[38;5;28;01mwhile\u001b[39;00m \u001b[38;5;28;01mTrue\u001b[39;00m:\n\u001b[0;32m      2\u001b[0m     \u001b[38;5;28mprint\u001b[39m(\u001b[38;5;124m\"\u001b[39m\u001b[38;5;124m음료목록: 1.오렌지 주스(100), 2.커피(200), 3.콜라(300), 4.종료\u001b[39m\u001b[38;5;124m\"\u001b[39m)\n\u001b[1;32m----> 3\u001b[0m     coin\u001b[38;5;241m=\u001b[39m\u001b[38;5;28mint\u001b[39m(\u001b[38;5;28minput\u001b[39m(\u001b[38;5;124m\"\u001b[39m\u001b[38;5;124m동전을 넣어주세요\u001b[39m\u001b[38;5;124m\"\u001b[39m))\n\u001b[0;32m      4\u001b[0m     drink\u001b[38;5;241m=\u001b[39m\u001b[38;5;28mint\u001b[39m(\u001b[38;5;28minput\u001b[39m(\u001b[38;5;124m\"\u001b[39m\u001b[38;5;124m음료를 선택해주세요(숫자 입력)\u001b[39m\u001b[38;5;124m\"\u001b[39m))\n\u001b[0;32m      6\u001b[0m     \u001b[38;5;28;01mif\u001b[39;00m drink \u001b[38;5;241m==\u001b[39m \u001b[38;5;241m1\u001b[39m:\n",
      "\u001b[1;31mValueError\u001b[0m: invalid literal for int() with base 10: ''"
     ]
    }
   ],
   "source": [
    "while True:\n",
    "    print(\"음료목록: 1.오렌지 주스(100), 2.커피(200), 3.콜라(300), 4.종료\")\n",
    "    coin=int(input(\"동전을 넣어주세요\"))\n",
    "    drink=int(input(\"음료를 선택해주세요(숫자 입력)\"))\n",
    "\n",
    "    if drink == 1:\n",
    "        if coin>=100:\n",
    "            remain=coin-100\n",
    "            print(\"음료가 곧 제공됩니다.\")\n",
    "            print(\"잔액:\",remain)\n",
    "        else :\n",
    "            print(\"동전이 부족합니다.\")\n",
    "\n",
    "    elif drink == 2:\n",
    "        if coin>=200:\n",
    "            remain=coin-200\n",
    "            print(\"음료가 곧 제공됩니다.\")\n",
    "            print(\"잔액:\",remain)\n",
    "        else :\n",
    "            print(\"동전이 부족합니다.\")\n",
    "\n",
    "    elif drink == 3:\n",
    "        if coin>=300:\n",
    "            remain=coin-300\n",
    "            print(\"음료가 곧 제공됩니다.\")\n",
    "            print(\"잔액:\",remain)\n",
    "        else :\n",
    "            print(\"동전이 부족합니다.\")\n",
    "\n",
    "    elif (drink==4):\n",
    "        break        \n",
    "\n",
    "    else:\n",
    "        print(\"없는 메뉴입니다.\")\n"
   ]
  },
  {
   "cell_type": "code",
   "execution_count": 30,
   "metadata": {},
   "outputs": [
    {
     "name": "stdout",
     "output_type": "stream",
     "text": [
      "1 2 (3,)\n",
      "1 2 (3, 4, 5)\n",
      "1 2 (3, 4, 5, 6, 7)\n"
     ]
    }
   ],
   "source": [
    "def func1(a, b, *c):\n",
    "    print(a, b, c)\n",
    "\n",
    "func1(1, 2, 3)\n",
    "func1(1, 2, 3, 4, 5)\n",
    "func1(1, 2, 3, 4, 5, 6, 7)\n"
   ]
  },
  {
   "cell_type": "code",
   "execution_count": 32,
   "metadata": {},
   "outputs": [
    {
     "name": "stdout",
     "output_type": "stream",
     "text": [
      "el o\n",
      "!dlroW olleH\n",
      "Hello World!\n",
      "HloWrd\n"
     ]
    }
   ],
   "source": [
    "a = \"Hello World!\"\n",
    "\n",
    "print(a[1:9:2]) #start:stop:step\n",
    "print(a[::-1])\n",
    "print(a[-50:50])\n",
    "print(a[::2])"
   ]
  },
  {
   "cell_type": "code",
   "execution_count": 33,
   "metadata": {},
   "outputs": [
    {
     "name": "stdout",
     "output_type": "stream",
     "text": [
      "team, lab\n",
      "teamteamlablablab\n"
     ]
    }
   ],
   "source": [
    "#문자열 연산\n",
    "a='team'\n",
    "b='lab'\n",
    "print(a+\", \"+b)\n",
    "print(a*2+b*3)"
   ]
  },
  {
   "cell_type": "code",
   "execution_count": 37,
   "metadata": {},
   "outputs": [],
   "source": [
    "f=open('yesterday.txt', 'r')\n",
    "yesterday_lyric=f.readlines()\n",
    "yesterday_lyric\n",
    "f.close()\n"
   ]
  },
  {
   "cell_type": "code",
   "execution_count": 38,
   "metadata": {},
   "outputs": [
    {
     "name": "stdout",
     "output_type": "stream",
     "text": [
      "Number of a Word 'Yesterday' 9\n"
     ]
    }
   ],
   "source": [
    "contents=\"\"\n",
    "for line in yesterday_lyric:\n",
    "    contents = contents + line.strip()+\"\\n\"\n",
    "\n",
    "#print(contents)\n",
    "n_of_yesterday = contents.upper().count(\"YESTERDAY\")\n",
    "print(\"Number of a Word 'Yesterday'\", n_of_yesterday)"
   ]
  },
  {
   "cell_type": "code",
   "execution_count": null,
   "metadata": {},
   "outputs": [],
   "source": [
    "name=\"박성언\"\n",
    "age=20\n",
    "job=\"학생\"\n",
    "print(name, age, job)\n",
    "print('내 이름은 ', name, '이고, 나이는', age,'살이며, 직업은 ', job '코딩'\n",
    "      \n",
    "      )"
   ]
  },
  {
   "cell_type": "code",
   "execution_count": null,
   "metadata": {},
   "outputs": [],
   "source": []
  }
 ],
 "metadata": {
  "kernelspec": {
   "display_name": "base",
   "language": "python",
   "name": "python3"
  },
  "language_info": {
   "codemirror_mode": {
    "name": "ipython",
    "version": 3
   },
   "file_extension": ".py",
   "mimetype": "text/x-python",
   "name": "python",
   "nbconvert_exporter": "python",
   "pygments_lexer": "ipython3",
   "version": "3.12.4"
  }
 },
 "nbformat": 4,
 "nbformat_minor": 2
}
