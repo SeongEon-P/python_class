{
 "cells": [
  {
   "cell_type": "code",
   "execution_count": null,
   "metadata": {},
   "outputs": [],
   "source": [
    "colors=['red','green','blue','black']\n",
    "numbers=[1,2,3,4,5,6,7,8,9,10]\n",
    "print(colors[0], colors[3])\n",
    "print(nubmers[0], numbers[9])\n"
   ]
  },
  {
   "cell_type": "code",
   "execution_count": 3,
   "metadata": {},
   "outputs": [
    {
     "ename": "NameError",
     "evalue": "name 'numbers' is not defined",
     "output_type": "error",
     "traceback": [
      "\u001b[1;31m---------------------------------------------------------------------------\u001b[0m",
      "\u001b[1;31mNameError\u001b[0m                                 Traceback (most recent call last)",
      "Cell \u001b[1;32mIn[3], line 4\u001b[0m\n\u001b[0;32m      2\u001b[0m stop\u001b[38;5;241m=\u001b[39m\u001b[38;5;241m10\u001b[39m\n\u001b[0;32m      3\u001b[0m step\u001b[38;5;241m=\u001b[39m\u001b[38;5;241m1\u001b[39m\n\u001b[1;32m----> 4\u001b[0m numbers[start:stop:step]\n\u001b[0;32m      5\u001b[0m numbers[:\u001b[38;5;241m10\u001b[39m:]\n\u001b[0;32m      6\u001b[0m numbers[::\u001b[38;5;241m-\u001b[39m\u001b[38;5;241m1\u001b[39m]\n",
      "\u001b[1;31mNameError\u001b[0m: name 'numbers' is not defined"
     ]
    }
   ],
   "source": [
    "start=0\n",
    "stop=10\n",
    "step=1\n",
    "numbers[start:stop:step]\n",
    "numbers[:10:]\n",
    "numbers[::-1]"
   ]
  },
  {
   "cell_type": "code",
   "execution_count": 4,
   "metadata": {},
   "outputs": [
    {
     "name": "stdout",
     "output_type": "stream",
     "text": [
      "['red', 'blue', 'green', 'orange', 'black', 'white']\n"
     ]
    }
   ],
   "source": [
    "#연산\n",
    "color1=['red', 'blue', 'green']\n",
    "color2=['orange', 'black', 'white']\n",
    "print(color1+color2)"
   ]
  },
  {
   "cell_type": "code",
   "execution_count": 5,
   "metadata": {},
   "outputs": [
    {
     "name": "stdout",
     "output_type": "stream",
     "text": [
      "['red', 'blue', 'green']\n",
      "['red', 'purple', 'blue', 'green']\n",
      "['red', 'blue', 'green']\n",
      "['red', 'green']\n"
     ]
    }
   ],
   "source": [
    "print(color1)\n",
    "color1.insert(1,'purple')\n",
    "print(color1)\n",
    "color1.remove('purple')\n",
    "print(color1)\n",
    "del color1[1]\n",
    "print(color1)"
   ]
  },
  {
   "cell_type": "code",
   "execution_count": null,
   "metadata": {},
   "outputs": [],
   "source": [
    "#a,b,c,d,=t\n",
    "a,*b=t\n",
    "print(a, b)\n"
   ]
  },
  {
   "cell_type": "code",
   "execution_count": 7,
   "metadata": {},
   "outputs": [
    {
     "ename": "NameError",
     "evalue": "name 'colors' is not defined",
     "output_type": "error",
     "traceback": [
      "\u001b[1;31m---------------------------------------------------------------------------\u001b[0m",
      "\u001b[1;31mNameError\u001b[0m                                 Traceback (most recent call last)",
      "Cell \u001b[1;32mIn[7], line 1\u001b[0m\n\u001b[1;32m----> 1\u001b[0m list1\u001b[38;5;241m=\u001b[39m[\u001b[38;5;241m1\u001b[39m,\u001b[38;5;241m2\u001b[39m, \u001b[38;5;124m'\u001b[39m\u001b[38;5;124mabc\u001b[39m\u001b[38;5;124m'\u001b[39m, colors]\n\u001b[0;32m      2\u001b[0m \u001b[38;5;28mprint\u001b[39m(list1)\n\u001b[0;32m      3\u001b[0m \u001b[38;5;28mprint\u001b[39m(list1[\u001b[38;5;241m0\u001b[39m], list1[\u001b[38;5;241m1\u001b[39m])\n",
      "\u001b[1;31mNameError\u001b[0m: name 'colors' is not defined"
     ]
    }
   ],
   "source": [
    "list1=[1,2, 'abc', colors]\n",
    "print(list1)\n",
    "print(list1[0], list1[1])\n",
    "print(list1[2])\n",
    "print(lsit1[3][0])"
   ]
  },
  {
   "cell_type": "code",
   "execution_count": 8,
   "metadata": {},
   "outputs": [
    {
     "name": "stdout",
     "output_type": "stream",
     "text": [
      "[[49, 79, 100, 80], [43, 59, 85, 30, 90], [33, 79, 84, 36, 93]]\n"
     ]
    }
   ],
   "source": [
    "kor_score=[49,79,100,80]\n",
    "math_score=[43,59,85,30,90]\n",
    "eng_score=[33,79,84,36,93]\n",
    "midterm_score=[kor_score, math_score, eng_score]\n",
    "print(midterm_score)"
   ]
  },
  {
   "cell_type": "code",
   "execution_count": 9,
   "metadata": {},
   "outputs": [
    {
     "name": "stdout",
     "output_type": "stream",
     "text": [
      "[[49, 79, 100, 80], [100, 59, 85, 30, 90], [33, 79, 84, 36, 93]]\n"
     ]
    }
   ],
   "source": [
    "math_score[0]=100\n",
    "print(midterm_score)"
   ]
  },
  {
   "cell_type": "code",
   "execution_count": 10,
   "metadata": {},
   "outputs": [
    {
     "name": "stdout",
     "output_type": "stream",
     "text": [
      "학생 A의 평균 점수: 47.00\n",
      "학생 B의 평균 점수: 74.00\n",
      "학생 C의 평균 점수: 51.00\n",
      "학생 D의 평균 점수: 60.00\n",
      "학생 E의 평균 점수: 90.00\n"
     ]
    }
   ],
   "source": [
    "scores = [\n",
    "    [49, 80, 20, 100, 80],  \n",
    "    [43, 60, 85, 30, 90],   \n",
    "    [49, 82, 48, 50, 100]  \n",
    "]\n",
    "\n",
    "\n",
    "num_students = len(scores[0])\n",
    "averages = []\n",
    "\n",
    "for i in range(num_students):\n",
    "    total = 0\n",
    "    for j in range(len(scores)):\n",
    "        total += scores[j][i]\n",
    "    average = total / len(scores)\n",
    "    averages.append(average)\n",
    "\n",
    "\n",
    "student_names = ['A', 'B', 'C', 'D', 'E']\n",
    "for i in range(num_students):\n",
    "    print(f\"학생 {student_names[i]}의 평균 점수: {averages[i]:.2f}\")\n"
   ]
  },
  {
   "cell_type": "code",
   "execution_count": 1,
   "metadata": {},
   "outputs": [
    {
     "name": "stdout",
     "output_type": "stream",
     "text": [
      "(1, 2, 3, 4, 5)\n",
      "(1, 2, 3, 4, 5, 1, 2, 3, 4, 5)\n",
      "(1, 2, 3, 4, 5)\n",
      "(1, 2, 3, 4)\n"
     ]
    }
   ],
   "source": [
    "#투플(tuple)\n",
    "t=(1,2,3,4,5)\n",
    "print(t)\n",
    "print(t*2)\n",
    "print(t)\n",
    "t1=1,2,3,4,\n",
    "print(t1)\n"
   ]
  },
  {
   "cell_type": "code",
   "execution_count": 2,
   "metadata": {},
   "outputs": [
    {
     "name": "stdout",
     "output_type": "stream",
     "text": [
      "{1, 2, 3, 4}\n",
      "{10, 20, 30}\n"
     ]
    }
   ],
   "source": [
    "s=set([1,2,3,4])\n",
    "print(s)\n",
    "s1={10,20,30}\n",
    "print(s1)\n"
   ]
  },
  {
   "cell_type": "code",
   "execution_count": 3,
   "metadata": {},
   "outputs": [
    {
     "name": "stdout",
     "output_type": "stream",
     "text": [
      "{40, 10, 20, 30}\n"
     ]
    }
   ],
   "source": [
    "s1.add(40)\n",
    "print(s1)"
   ]
  },
  {
   "cell_type": "code",
   "execution_count": null,
   "metadata": {},
   "outputs": [],
   "source": [
    "s1={1,2,3,4,5}\n",
    "s2={3,4,5,6,7}\n",
    "print(s1.union(s2))\n",
    "print(s1 | s2)\n",
    "print(s1.intersection(s2))\n",
    "print(s1 & s2)\n",
    "print(s1.difference(s2))"
   ]
  },
  {
   "cell_type": "code",
   "execution_count": null,
   "metadata": {},
   "outputs": [],
   "source": []
  }
 ],
 "metadata": {
  "kernelspec": {
   "display_name": "base",
   "language": "python",
   "name": "python3"
  },
  "language_info": {
   "codemirror_mode": {
    "name": "ipython",
    "version": 3
   },
   "file_extension": ".py",
   "mimetype": "text/x-python",
   "name": "python",
   "nbconvert_exporter": "python",
   "pygments_lexer": "ipython3",
   "version": "3.12.4"
  }
 },
 "nbformat": 4,
 "nbformat_minor": 2
}
