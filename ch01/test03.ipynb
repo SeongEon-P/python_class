{
 "cells": [
  {
   "cell_type": "code",
   "execution_count": 2,
   "metadata": {},
   "outputs": [
    {
     "name": "stdout",
     "output_type": "stream",
     "text": [
      "red green blue yellow \n",
      "red green blue yellow\n"
     ]
    }
   ],
   "source": [
    "colors=['red','green','blue','yellow']\n",
    "result=''\n",
    "for s in colors:\n",
    "    result+=s+\" \"\n",
    "\n",
    "print(result)\n",
    "\n",
    "result1=' '.join(colors)\n",
    "print(result1)"
   ]
  },
  {
   "cell_type": "code",
   "execution_count": 5,
   "metadata": {},
   "outputs": [
    {
     "name": "stdout",
     "output_type": "stream",
     "text": [
      "['red green blue yellow']\n",
      "['red', 'green', 'blue', 'yellow']\n"
     ]
    }
   ],
   "source": [
    "list1=result1.split(\"-\")\n",
    "list2=result.split()\n",
    "print(list1)\n",
    "print(list2)"
   ]
  },
  {
   "cell_type": "code",
   "execution_count": 7,
   "metadata": {},
   "outputs": [
    {
     "name": "stdout",
     "output_type": "stream",
     "text": [
      "[0, 1, 2, 3, 4, 5, 6, 7, 8, 9]\n"
     ]
    }
   ],
   "source": [
    "result=[i for i in range(10)]\n",
    "print(result)"
   ]
  },
  {
   "cell_type": "code",
   "execution_count": 8,
   "metadata": {},
   "outputs": [
    {
     "name": "stdout",
     "output_type": "stream",
     "text": [
      "['a', 'b', 'c', 'd', 'e', 'f', 'g']\n"
     ]
    }
   ],
   "source": [
    "result1=[s for s in 'abcdefg']\n",
    "print(result1)\n"
   ]
  },
  {
   "cell_type": "code",
   "execution_count": 10,
   "metadata": {},
   "outputs": [
    {
     "name": "stdout",
     "output_type": "stream",
     "text": [
      "\n",
      "            My name is Jinhyun.\n",
      "            I play in MF in center.\n",
      "            My back_number is 10\n",
      "선수의 등번호를 변경 : From 10 to 5\n",
      "\n",
      "            My name is Jinhyun.\n",
      "            I play in MF in center.\n",
      "            My back_number is 5\n"
     ]
    }
   ],
   "source": [
    "class SoccerPlayer(object):\n",
    "    def __init__(self, name, position, back_number):\n",
    "        self.name=name\n",
    "        self.position=position\n",
    "        self.back_number=back_number\n",
    "\n",
    "    def change_back_number(self, new_nuber):\n",
    "        print(\"선수의 등번호를 변경 : From %d to %d\"%(self.back_number, new_nuber))\n",
    "        self.back_number=new_nuber\n",
    "    \n",
    "    def __str__(self):\n",
    "        return \"\"\"\n",
    "            My name is %s.\n",
    "            I play in %s in center.\n",
    "            My back_number is %d\"\"\"%(self.name, self.position, self.back_number)\n",
    "    \n",
    "    jinhyun=SoccerPlayer('Jinhyun', \"MF\", 10)\n",
    "    print(jinhyun)\n",
    "    jinhyun.change_back_number(5)\n",
    "    print(jinhyun)"
   ]
  },
  {
   "cell_type": "code",
   "execution_count": 11,
   "metadata": {},
   "outputs": [
    {
     "name": "stdout",
     "output_type": "stream",
     "text": [
      "학번: 1, 이름: 김수현, 성별: 남자, 전공: 컴공\n",
      "전공을 컴공에서 정보통신로 변경합니다.\n",
      "학번: 1, 이름: 김수현, 성별: 남자, 전공: 정보통신\n"
     ]
    }
   ],
   "source": [
    "class Student:\n",
    "    def __init__(self, sno, name, gender, major):\n",
    "        self.sno = sno\n",
    "        self.name = name\n",
    "        self.gender = gender\n",
    "        self.major = major\n",
    "\n",
    "    def __str__(self):\n",
    "        return f\"학번: {self.sno}, 이름: {self.name}, 성별: {self.gender}, 전공: {self.major}\"\n",
    "\n",
    "    def change_major(self, new_major):\n",
    "        print(f\"전공을 {self.major}에서 {new_major}로 변경합니다.\")\n",
    "        self.major = new_major\n",
    "\n",
    "\n",
    "kim = Student(1, \"김수현\", \"남자\", \"컴공\")\n",
    "\n",
    "\n",
    "print(kim)\n",
    "\n",
    "kim.change_major(\"정보통신\")\n",
    "print(kim)\n"
   ]
  },
  {
   "cell_type": "code",
   "execution_count": 14,
   "metadata": {},
   "outputs": [],
   "source": [
    "class Person(object):\n",
    "    def __init__(self, name, age, gender):\n",
    "        self.name = name\n",
    "        self.age = age\n",
    "        self.gender = gender\n",
    "\n",
    "    @property\n",
    "    def getName(self):\n",
    "        return self.__name    \n",
    "\n",
    "    def about_me(self):\n",
    "        print(\"name:{}, age:{}, gender:{}\".format(self.name, self.age, self.gender), end=\" \")"
   ]
  },
  {
   "cell_type": "code",
   "execution_count": null,
   "metadata": {},
   "outputs": [],
   "source": [
    "p1=Person('홍길동', 20, \"남자\")\n",
    "p1.about_me()\n",
    "\n",
    "class Korean(PermissionError):\n",
    "    def __init__(self, name, age, gender, language):\n",
    "        super().__init__(name, age, gender)\n",
    "        self.languange = languange\n",
    "\n",
    "    def about_me(self):\n",
    "        super().about_me()\n",
    "        print(\"languange:{}\".format(self.languange))\n",
    "\n",
    "kim=Person('홍길동', 20, \"남자\")\n",
    "p1.about_me()\n"
   ]
  },
  {
   "cell_type": "code",
   "execution_count": 15,
   "metadata": {},
   "outputs": [
    {
     "ename": "SyntaxError",
     "evalue": "unmatched ')' (3001407689.py, line 9)",
     "output_type": "error",
     "traceback": [
      "\u001b[1;36m  Cell \u001b[1;32mIn[15], line 9\u001b[1;36m\u001b[0m\n\u001b[1;33m    print(\"eno:{}\".format(self.eno)), end=\" \")\u001b[0m\n\u001b[1;37m                                             ^\u001b[0m\n\u001b[1;31mSyntaxError\u001b[0m\u001b[1;31m:\u001b[0m unmatched ')'\n"
     ]
    }
   ],
   "source": [
    "class Employee(Person):\n",
    "    def __init__(self, eno, name, age, gender, dept, sal):\n",
    "        super().__init__(name, age, gender)\n",
    "        self.eno-eno\n",
    "        self.dept=dept\n",
    "        self.sal=sal\n",
    "    \n",
    "    def about_me(self):\n",
    "        print(\"eno:{}\".format(self.eno), end=\" \")\n",
    "    super().about_me()\n",
    "    print(\"dept:{}, sal:{}\".format(self.))"
   ]
  },
  {
   "cell_type": "code",
   "execution_count": null,
   "metadata": {},
   "outputs": [],
   "source": [
    "e1=Employee(1, '홍길동', 30, '남자', '기획부', 500)\n",
    "e1.about_me()\n",
    "pritn"
   ]
  }
 ],
 "metadata": {
  "kernelspec": {
   "display_name": "base",
   "language": "python",
   "name": "python3"
  },
  "language_info": {
   "codemirror_mode": {
    "name": "ipython",
    "version": 3
   },
   "file_extension": ".py",
   "mimetype": "text/x-python",
   "name": "python",
   "nbconvert_exporter": "python",
   "pygments_lexer": "ipython3",
   "version": "3.12.4"
  }
 },
 "nbformat": 4,
 "nbformat_minor": 2
}
