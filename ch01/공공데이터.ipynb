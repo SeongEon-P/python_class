{
 "cells": [
  {
   "cell_type": "code",
   "execution_count": 5,
   "metadata": {},
   "outputs": [
    {
     "data": {
      "text/plain": [
       "('data/businfo.xml', <http.client.HTTPMessage at 0x13eb2a782c0>)"
      ]
     },
     "execution_count": 5,
     "metadata": {},
     "output_type": "execute_result"
    }
   ],
   "source": [
    "import urllib.request as req\n",
    "from bs4 import BeautifulSoup as bs\n",
    "\n",
    "key='EuR2f4NyYmQA25KAjjzVnGtMhkmdwEs86v%2BbyKSH%2B6KZBK9LVbmjY97VWVtkYhXNpAjreD9NrXQPoAr17cQ3rA%3D%3D'\n",
    "lineno=189\n",
    "\n",
    "url='http://apis.data.go.kr/6260000/BusanBIMS/busInfo'\n",
    "params='?ServiceKey='+key+'&lineno='+str(lineno)\n",
    "savepath='data/businfo.xml'\n",
    "req.urlretrieve(url+params, savepath)"
   ]
  },
  {
   "cell_type": "code",
   "execution_count": 20,
   "metadata": {},
   "outputs": [
    {
     "name": "stdout",
     "output_type": "stream",
     "text": [
      "189 5200189000\n"
     ]
    }
   ],
   "source": [
    "xml = open(savepath, 'r', encoding='utf-8').read()\n",
    "soup = bs(xml, 'xml')\n",
    "lineid = None\n",
    "# print(soup.find_all('item'))\n",
    "for item in soup.find_all('item'):\n",
    "    busno = item.find('buslinenum').text\n",
    "    lineid = item.find('lineid').text\n",
    "    # print(busno, lineid)\n",
    "    if busno==str(lineno):\n",
    "        break\n",
    "print(busno, lineid)"
   ]
  },
  {
   "cell_type": "code",
   "execution_count": 21,
   "metadata": {},
   "outputs": [
    {
     "data": {
      "text/plain": [
       "('data/busposition.xml', <http.client.HTTPMessage at 0x13eb2c6ede0>)"
      ]
     },
     "execution_count": 21,
     "metadata": {},
     "output_type": "execute_result"
    }
   ],
   "source": [
    "url2='http://apis.data.go.kr/6260000/BusanBIMS/busInfoByRouteId'\n",
    "params2='?ServiceKey='+key+'&lineid='+str(lineid)\n",
    "savepath2='data/busposition.xml'\n",
    "req.urlretrieve(url2+params2, savepath2)"
   ]
  },
  {
   "cell_type": "code",
   "execution_count": 23,
   "metadata": {},
   "outputs": [],
   "source": [
    "xml2=open(savepath2,'r',encoding='utf-8').read()\n",
    "soup = bs(xml2, 'xml')\n",
    "bus_list=[]\n",
    "for item in soup.find_all('item'):\n",
    "    bstopnm=item.find('bstopnm')\n",
    "    if bstopnm==None:\n",
    "        bstopnm='-'\n",
    "    else:\n",
    "        bstopnm=bstopnm.text\n",
    "    # print(bstopnm)\n",
    "    lat=item.find('lat')\n",
    "    if lat==None:\n",
    "        lat=0\n",
    "    else:\n",
    "        lat=lat.text\n",
    "    lon=item.find('lin')\n",
    "    if lon==None:\n",
    "        lon=0\n",
    "    else:\n",
    "        lon=lon.text\n",
    "    bus_list.append((bstopnm, lat, lon))\n",
    "    # print(bstopnm, lat, lon)\n",
    "\n",
    "\n"
   ]
  },
  {
   "cell_type": "code",
   "execution_count": 24,
   "metadata": {},
   "outputs": [
    {
     "data": {
      "text/plain": [
       "[('고촌역.대진여객', 0, 0),\n",
       " ('반송주공아파트', 0, 0),\n",
       " ('반송주공아파트입구', 0, 0),\n",
       " ('삼한아파트', 0, 0),\n",
       " ('남흥아파트', 0, 0),\n",
       " ('반송도개공입구', 0, 0),\n",
       " ('반송주공아파트입구', '35.2301184', '129.1588480'),\n",
       " ('송운초등학교', 0, 0),\n",
       " ('본동', 0, 0),\n",
       " ('반송보건지소', 0, 0),\n",
       " ('반송시장', 0, 0),\n",
       " ('반송우체국.영산대역', '35.2257664', '129.1467264'),\n",
       " ('반송초등학교', 0, 0),\n",
       " ('옹기골', 0, 0),\n",
       " ('석대역', 0, 0),\n",
       " ('석대동', 0, 0),\n",
       " ('석대화훼단지', 0, 0),\n",
       " ('반여농산물도매시장', 0, 0),\n",
       " ('서금지구대.금사역', 0, 0),\n",
       " ('금사전화국', 0, 0),\n",
       " ('금사입구', 0, 0),\n",
       " ('라이프타운', '35.2146528', '129.1056000'),\n",
       " ('서3치안센터', 0, 0),\n",
       " ('책마을보드랑 작은도서관', 0, 0),\n",
       " ('서1동새마을금고', 0, 0),\n",
       " ('서동고개', 0, 0),\n",
       " ('내성고등학교', 0, 0),\n",
       " ('부곡1치안센터', 0, 0),\n",
       " ('부곡4동주민센터.온천장역', '35.2199296', '129.0881664'),\n",
       " ('온천입구', 0, 0),\n",
       " ('온천장아스타아파트', 0, 0),\n",
       " ('명륜역', 0, 0),\n",
       " ('롯데백화점동래점', 0, 0),\n",
       " ('동래역', 0, 0),\n",
       " ('동래럭키아파트', '35.2055936', '129.0755968'),\n",
       " ('미남역.반도스카이뷰', 0, 0),\n",
       " ('사직1치안센터', 0, 0),\n",
       " ('사직1동주민센터', 0, 0),\n",
       " ('사직사거리', '35.1972576', '129.0607872'),\n",
       " ('사직운동장', 0, 0),\n",
       " ('여명중학교', 0, 0),\n",
       " ('대선주조', 0, 0),\n",
       " ('화신아파트', 0, 0),\n",
       " ('교대역', 0, 0),\n",
       " ('동해선교대역', '35.1941984', '129.0797824'),\n",
       " ('연산역.연산교차로', '35.1881344', '129.0810240'),\n",
       " ('반도보라아파트', 0, 0),\n",
       " ('연산초등학교', 0, 0),\n",
       " ('연산초등학교', 0, 0),\n",
       " ('반도보라아파트', '35.1833952', '129.0831104'),\n",
       " ('연산역.연산교차로', 0, 0),\n",
       " ('동해선교대역', 0, 0),\n",
       " ('교대역', 0, 0),\n",
       " ('화신아파트', 0, 0),\n",
       " ('대선주조', 0, 0),\n",
       " ('여명중학교', 0, 0),\n",
       " ('사직운동장', '35.1958336', '129.0638336'),\n",
       " ('사직야구장', 0, 0),\n",
       " ('사직사거리', 0, 0),\n",
       " ('사직1치안센터', 0, 0),\n",
       " ('미남역.반도스카이뷰', '35.2054368', '129.0679040'),\n",
       " ('광혜병원', 0, 0),\n",
       " ('동래역', 0, 0),\n",
       " ('명륜역', '35.2149696', '129.0809984'),\n",
       " ('온천장', 0, 0),\n",
       " ('동해중학교', 0, 0),\n",
       " ('부곡4동주민센터.온천장역', 0, 0),\n",
       " ('부곡1치안센터', 0, 0),\n",
       " ('내성고등학교', 0, 0),\n",
       " ('서동고개', 0, 0),\n",
       " ('서1동새마을금고', 0, 0),\n",
       " ('책마을보드랑 작은도서관', '35.2152256', '129.1020416'),\n",
       " ('세웅병원후문', 0, 0),\n",
       " ('부산은행', 0, 0),\n",
       " ('금사입구', 0, 0),\n",
       " ('금사전화국', 0, 0),\n",
       " ('서금지구대.금사역', 0, 0),\n",
       " ('반여농산물도매시장', 0, 0),\n",
       " ('석대화훼단지', 0, 0),\n",
       " ('석대동', 0, 0),\n",
       " ('석대역', 0, 0),\n",
       " ('옹기골', 0, 0),\n",
       " ('반송초등학교', 0, 0),\n",
       " ('반송우체국.영산대역', '35.2254592', '129.1474304'),\n",
       " ('반송시장', 0, 0),\n",
       " ('반송보건지소', 0, 0),\n",
       " ('본동', 0, 0),\n",
       " ('송운초등학교', 0, 0),\n",
       " ('반송주공아파트입구', 0, 0),\n",
       " ('삼한아파트', 0, 0),\n",
       " ('남흥아파트', '35.2282304', '129.1625216'),\n",
       " ('반송도개공입구', 0, 0),\n",
       " ('반송주공아파트입구', 0, 0),\n",
       " ('반송주공아파트', 0, 0),\n",
       " ('고촌역.대진여객', '35.2345568', '129.1591296')]"
      ]
     },
     "execution_count": 24,
     "metadata": {},
     "output_type": "execute_result"
    }
   ],
   "source": [
    "bus_list"
   ]
  }
 ],
 "metadata": {
  "kernelspec": {
   "display_name": "base",
   "language": "python",
   "name": "python3"
  },
  "language_info": {
   "codemirror_mode": {
    "name": "ipython",
    "version": 3
   },
   "file_extension": ".py",
   "mimetype": "text/x-python",
   "name": "python",
   "nbconvert_exporter": "python",
   "pygments_lexer": "ipython3",
   "version": "3.12.4"
  }
 },
 "nbformat": 4,
 "nbformat_minor": 2
}
